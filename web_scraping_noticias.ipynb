{
  "nbformat": 4,
  "nbformat_minor": 0,
  "metadata": {
    "colab": {
      "provenance": [],
      "authorship_tag": "ABX9TyMHmZtS7TcW2W6mngw0IOB/",
      "include_colab_link": true
    },
    "kernelspec": {
      "name": "python3",
      "display_name": "Python 3"
    },
    "language_info": {
      "name": "python"
    }
  },
  "cells": [
    {
      "cell_type": "markdown",
      "metadata": {
        "id": "view-in-github",
        "colab_type": "text"
      },
      "source": [
        "<a href=\"https://colab.research.google.com/github/filipecarbonera/Projetos-Web-Scraping/blob/main/web_scraping_noticias.ipynb\" target=\"_parent\"><img src=\"https://colab.research.google.com/assets/colab-badge.svg\" alt=\"Open In Colab\"/></a>"
      ]
    },
    {
      "cell_type": "markdown",
      "source": [
        "#**Web Scrapping - Noticias**"
      ],
      "metadata": {
        "id": "mmfHcup5utjH"
      }
    },
    {
      "cell_type": "markdown",
      "source": [
        "Neste projeto, realizo o web scraping de noticias do site G1 para compreender cada etapa macro do processo de *scraping*. Agradeço a Walisson Silva pelo rico conteúdo sobre Web Scraping.\n",
        "\n",
        "[Acesse aqui](https://www.youtube.com/playlist?list=PLg3ZPsW_sghSkRacynznQeEs-vminyTQk) a playlist do Youtube que usei como base para esse estudo."
      ],
      "metadata": {
        "id": "zEJXuXVzFu8E"
      }
    },
    {
      "cell_type": "markdown",
      "source": [
        "## Exploração e aprendizado sobre o método."
      ],
      "metadata": {
        "id": "KDIHAEyqFKKS"
      }
    },
    {
      "cell_type": "code",
      "execution_count": null,
      "metadata": {
        "id": "JAyAki9AuqwM",
        "colab": {
          "base_uri": "https://localhost:8080/"
        },
        "outputId": "166b05d8-3e08-4768-ed58-b68a37915c76"
      },
      "outputs": [
        {
          "output_type": "stream",
          "name": "stdout",
          "text": [
            "Status:  200\n",
            "Headers:  {'Date': 'Wed, 15 Dec 2021 03:30:42 GMT', 'Content-Type': 'text/html; charset=UTF-8', 'Content-Length': '142439', 'Connection': 'keep-alive', 'Show-Page-Version': '0', 'X-Request-Id': '6162e1d4-ae38-4582-a66f-049114d1f3c9', 'X-Mobile': 'desktop', 'Content-Security-Policy': 'upgrade-insecure-requests', 'X-Content-Type-Options': 'nosniff', 'X-XSS-Protection': '1; mode=block', 'Expires': 'Wed, 15 Dec 2021 03:30:47 GMT', 'Cache-Control': 'max-age=10', 'X-Served-From': 'Core, Show Services', 'X-BlopF': 'AC150142', 'Content-Encoding': 'gzip', 'Age': '3', 'Vary': 'X-Forwarded-Proto, Accept-Encoding, User-Agent', 'X-Bip': '272260393 asra04lx32ca02', 'Via': '2.0 CachOS', 'Accept-Ranges': 'bytes', 'X-Thanos': '0AB25045'}\n"
          ]
        }
      ],
      "source": [
        "#Importando a biblioteca requests para acessar o site desejado.\n",
        "import requests\n",
        "\n",
        "# Atribuindo o link do site a uma variável.\n",
        "url = 'https://g1.globo.com/'\n",
        "\n",
        "# Atribuindo à variável response a resposta da requisição da url.\n",
        "response = requests.get(url)\n",
        "\n",
        "# Apresentando as partes da resposta obtida.\n",
        "print('Status: ', response.status_code)\n",
        "print('Headers: ', response.headers)\n",
        "\n",
        "# Atribuindo o conteúdo obtido à uma variável.\n",
        "content = response.content"
      ]
    },
    {
      "cell_type": "code",
      "source": [
        "# Importando a biblioteca de Web Scraping.\n",
        "from bs4 import BeautifulSoup\n",
        "\n",
        "# Criando o objeto da biblioteca de Web Scraping indicando se tratar de HTML.\n",
        "site = BeautifulSoup(content, 'html.parser',)\n",
        "#print(site.prettify())"
      ],
      "metadata": {
        "id": "dkRXsUoM6xik"
      },
      "execution_count": null,
      "outputs": []
    },
    {
      "cell_type": "code",
      "source": [
        "# Usando o método .find para buscar a primeira noticia que constar no site no momento do acesso e atribuindo o resultado em uma variável.\n",
        "noticia = site.find('div', attrs={'class': 'feed-post-body'})\n",
        "print(noticia.prettify())"
      ],
      "metadata": {
        "colab": {
          "base_uri": "https://localhost:8080/"
        },
        "id": "kviIB6QZ6xlJ",
        "outputId": "fba5550e-0397-4825-855a-507ace05f713"
      },
      "execution_count": null,
      "outputs": [
        {
          "output_type": "stream",
          "name": "stdout",
          "text": [
            "<div class=\"feed-post-body\">\n",
            " <div class=\"feed-post-header with-post-chapeu\">\n",
            "  <span class=\"feed-post-header-chapeu\">\n",
            "   Avaliação do governo\n",
            "  </span>\n",
            " </div>\n",
            " <div class=\"feed-post-body-title gui-color-primary gui-color-hover \">\n",
            "  <div class=\"_evt\">\n",
            "   <a class=\"feed-post-link gui-color-primary gui-color-hover\" elementtiming=\"text-ssr\" href=\"https://g1.globo.com/politica/noticia/2021/12/14/reprovacao-ao-governo-bolsonaro-chega-a-55percent-aponta-pesquisa-ipec-aprovacao-e-de-19percent.ghtml\">\n",
            "    Reprovação ao governo Bolsonaro chega a 55%, aponta pesquisa Ipec\n",
            "   </a>\n",
            "  </div>\n",
            " </div>\n",
            " <div class=\"feed-post-body-resumo\" elementtiming=\"text-ssr\">\n",
            "  Aprovação da gestão do presidente é de 19%.\n",
            " </div>\n",
            " <div class=\"feed-media-wrapper\">\n",
            "  <a class=\"feed-post-figure-link gui-image-hover\" href=\"https://g1.globo.com/politica/noticia/2021/12/14/reprovacao-ao-governo-bolsonaro-chega-a-55percent-aponta-pesquisa-ipec-aprovacao-e-de-19percent.ghtml\">\n",
            "   <div class=\"bstn-fd-item-cover bstn-fd-video-cover\">\n",
            "    <picture class=\"bstn-fd-cover-picture\">\n",
            "     <img class=\"bstn-fd-picture-image\" elementtiming=\"image-ssr\" loading=\"lazy\" sizes=\"(min-width: 540px) 50vw, (min-width: 900px) 30vw, 100vw\" src=\"https://s2.glbimg.com/xusbzPMw8EI-7R7CfOvobUmygKE=/0x0:1200x675/540x304/smart/filters:max_age(3600)/https://s2.glbimg.com/DzbHCTNjOodRTP9-pHXvHm7yR-g=/1200x/smart/filters:cover():strip_icc()/s03.video.glbimg.com/x720/10128906.jpg\" srcset=\"https://s2.glbimg.com/xusbzPMw8EI-7R7CfOvobUmygKE=/0x0:1200x675/540x304/smart/filters:max_age(3600)/https://s2.glbimg.com/DzbHCTNjOodRTP9-pHXvHm7yR-g=/1200x/smart/filters:cover():strip_icc()/s03.video.glbimg.com/x720/10128906.jpg 540w,https://s2.glbimg.com/LPTXdLrsstSuhhIzud7xenspg4w=/0x0:1200x675/810x456/smart/filters:max_age(3600)/https://s2.glbimg.com/DzbHCTNjOodRTP9-pHXvHm7yR-g=/1200x/smart/filters:cover():strip_icc()/s03.video.glbimg.com/x720/10128906.jpg 810w,https://s2.glbimg.com/lsYHe-N9Nt-TMcsdteRbs4f8kaw=/0x0:1200x675/1080x608/smart/filters:max_age(3600)/https://s2.glbimg.com/DzbHCTNjOodRTP9-pHXvHm7yR-g=/1200x/smart/filters:cover():strip_icc()/s03.video.glbimg.com/x720/10128906.jpg 1080w\"/>\n",
            "    </picture>\n",
            "   </div>\n",
            "  </a>\n",
            " </div>\n",
            " <div class=\"feed-post-metadata\">\n",
            "  <span class=\"feed-post-datetime\">\n",
            "   Há 6 horas\n",
            "  </span>\n",
            "  <span class=\"feed-post-metadata-section\">\n",
            "   Política\n",
            "  </span>\n",
            " </div>\n",
            "</div>\n"
          ]
        }
      ]
    },
    {
      "cell_type": "code",
      "source": [
        "# Buscando o titulo da noticia que acabei localizar.\n",
        "noticia_titulo = noticia.find('a', attrs={'class': 'feed-post-link'})\n",
        "print(noticia_titulo.text)"
      ],
      "metadata": {
        "colab": {
          "base_uri": "https://localhost:8080/"
        },
        "id": "X9Ki05ov6xn2",
        "outputId": "6e583ebe-3ca4-445a-85e0-f74e5ba3085b"
      },
      "execution_count": null,
      "outputs": [
        {
          "output_type": "stream",
          "name": "stdout",
          "text": [
            "Reprovação ao governo Bolsonaro chega a 55%, aponta pesquisa Ipec\n"
          ]
        }
      ]
    },
    {
      "cell_type": "code",
      "source": [
        "# Buscando o subtitulo da noticia que acabei de localizar.\n",
        "noticia_subtitulo = noticia.find('div', attrs={'class': 'feed-post-body-resumo'})\n",
        "print(noticia_subtitulo.text)"
      ],
      "metadata": {
        "id": "wxAc9ePB6xqr",
        "colab": {
          "base_uri": "https://localhost:8080/"
        },
        "outputId": "d66185dc-b5ac-4592-a1d6-7d09425dbd5a"
      },
      "execution_count": null,
      "outputs": [
        {
          "output_type": "stream",
          "name": "stdout",
          "text": [
            "Aprovação da gestão do presidente é de 19%.\n"
          ]
        }
      ]
    },
    {
      "cell_type": "markdown",
      "source": [
        "## Buscando os dados em série."
      ],
      "metadata": {
        "id": "RJMN7K6kFZ_n"
      }
    },
    {
      "cell_type": "code",
      "source": [
        "# Importando a biblioteca que permite transformar o conteúdo encontrado em arquivos e/ou tabelas.\n",
        "import pandas as pd\n",
        "\n",
        "# Criando a lista que irá conter todo o conteúdo buscado.\n",
        "noticias_lista = []\n",
        "\n",
        "# Buscando todas as noticias do site, as quais são identificadas pela classe \"feed-post-body\".\n",
        "noticias = site.findAll('div', attrs={'class': 'feed-post-body'})\n",
        "\n",
        "# Criando um laço de repetição para buscar titulo, subtitulo e link de cada noticia e atribuir os respectivos resultados a lista criada anteriormente.\n",
        "for noticia in noticias:\n",
        "\n",
        "  noticia_titulo = noticia.find('a', attrs={'class': 'feed-post-link'})\n",
        "  #print(noticia_titulo.text)\n",
        "  #print(noticia_titulo['href'])\n",
        "\n",
        "  noticia_subtitulo = noticia.find('div', attrs={'class': 'feed-post-body-resumo'})\n",
        "  if (noticia_subtitulo):\n",
        "    #print(noticia_subtitulo.text)\n",
        "    noticias_lista.append([noticia_titulo.text, noticia_subtitulo.text, noticia_titulo['href']])\n",
        "  else:\n",
        "      noticias_lista.append([noticia_titulo.text, '', noticia_titulo['href']])\n",
        "\n",
        "# Mostrando a lista final, com todo o conteúdo buscado.\n",
        "noticias_lista"
      ],
      "metadata": {
        "id": "9NV6ChZO1Me_",
        "colab": {
          "base_uri": "https://localhost:8080/"
        },
        "outputId": "6014df06-49d0-4c96-ecd2-e7d4cc56a0d5"
      },
      "execution_count": null,
      "outputs": [
        {
          "output_type": "execute_result",
          "data": {
            "text/plain": [
              "[['Reprovação ao governo Bolsonaro chega a 55%, aponta pesquisa Ipec',\n",
              "  'Aprovação da gestão do presidente é de 19%.',\n",
              "  'https://g1.globo.com/politica/noticia/2021/12/14/reprovacao-ao-governo-bolsonaro-chega-a-55percent-aponta-pesquisa-ipec-aprovacao-e-de-19percent.ghtml'],\n",
              " ['TSE unifica horário de votação em todos os estados; veja como fica',\n",
              "  'Votação no Acre será das 6h às 15h no horário local.',\n",
              "  'https://g1.globo.com/politica/eleicoes/2022/noticia/2021/12/14/tse-decide-uniformizar-horario-de-votacao-nas-eleicoes-de-2022.ghtml'],\n",
              " ['Dados de vacinação no ConecteSus permanecem indisponíveis',\n",
              "  'Ministro Marcelo Queiroga disse que expectativa era que o sistema fosse restabelecido ontem.',\n",
              "  'https://g1.globo.com/saude/noticia/2021/12/15/apesar-da-previsao-de-queiroga-dados-de-vacinacao-no-conectesus-permanecem-indisponiveis.ghtml'],\n",
              " ['Ainda sob efeito do ataque hacker, Brasil registra 141 mortes em 24 h',\n",
              "  '',\n",
              "  'https://g1.globo.com/saude/coronavirus/noticia/2021/12/14/brasil-ultrapassa-617-mil-mortos-por-covid-ataque-hacker-prejudica-balanco-pelo-5o-dia-sem-dados-de-5-estados.ghtml'],\n",
              " ['Vocalista e o sócio da boate Kiss são presos após decisão do STF',\n",
              "  'Ministro Barroso derrubou habeas corpus dos 4 condenados pelo incêndio. ',\n",
              "  'https://g1.globo.com/rs/rio-grande-do-sul/noticia/2021/12/14/condenados-pelo-incendio-na-boate-kiss-presos-no-rs.ghtml'],\n",
              " ['Senado aprova indicação de Anastasia para ministro do TCU',\n",
              "  'Nome ainda passará pela Câmara. Katia Abreu e Bezerra Coelho também disputavam.',\n",
              "  'https://g1.globo.com/politica/noticia/2021/12/14/senado-aprova-indicacao-de-antonio-anastasia-para-o-cargo-de-ministro-do-tcu.ghtml'],\n",
              " ['PEC dos Precatórios: Câmara aprova em 1º turno texto com mudanças do Senado',\n",
              "  '',\n",
              "  'https://g1.globo.com/politica/noticia/2021/12/14/camara-aprova-mudancas-feitas-pelo-senado-na-pec-dos-precatorios.ghtml'],\n",
              " [\"'Desesperador', diz brasileiro em região de tornados nos EUA\",\n",
              "  'Só em Kentucky, mais de 100 pessoas ainda estão desaparecidas.',\n",
              "  'https://g1.globo.com/jornal-nacional/noticia/2021/12/14/brasileiro-que-mora-na-regiao-atingida-por-tornados-nos-eua-conta-as-horas-de-desespero-que-passou.ghtml']]"
            ]
          },
          "metadata": {},
          "execution_count": 6
        }
      ]
    },
    {
      "cell_type": "markdown",
      "source": [
        "## Transformação dos dados."
      ],
      "metadata": {
        "id": "7AavREv3Fj7U"
      }
    },
    {
      "cell_type": "code",
      "source": [
        "# Transformando a lista em um dataframe, objeto da biblioteca pandas, que permite salvar o conteúdo em csv, por exemplo.\n",
        "df_noticias = pd.DataFrame(noticias_lista, columns=['titulo', 'subtitulo', 'link'])\n",
        "df_noticias"
      ],
      "metadata": {
        "colab": {
          "base_uri": "https://localhost:8080/"
        },
        "id": "tLPwt7nH9ntd",
        "outputId": "884404f1-f0bd-41a8-a43f-99c08285ba53"
      },
      "execution_count": null,
      "outputs": [
        {
          "output_type": "execute_result",
          "data": {
            "text/html": [
              "<div>\n",
              "<style scoped>\n",
              "    .dataframe tbody tr th:only-of-type {\n",
              "        vertical-align: middle;\n",
              "    }\n",
              "\n",
              "    .dataframe tbody tr th {\n",
              "        vertical-align: top;\n",
              "    }\n",
              "\n",
              "    .dataframe thead th {\n",
              "        text-align: right;\n",
              "    }\n",
              "</style>\n",
              "<table border=\"1\" class=\"dataframe\">\n",
              "  <thead>\n",
              "    <tr style=\"text-align: right;\">\n",
              "      <th></th>\n",
              "      <th>titulo</th>\n",
              "      <th>subtitulo</th>\n",
              "      <th>link</th>\n",
              "    </tr>\n",
              "  </thead>\n",
              "  <tbody>\n",
              "    <tr>\n",
              "      <th>0</th>\n",
              "      <td>Reprovação ao governo Bolsonaro chega a 55%, a...</td>\n",
              "      <td>Aprovação da gestão do presidente é de 19%.</td>\n",
              "      <td>https://g1.globo.com/politica/noticia/2021/12/...</td>\n",
              "    </tr>\n",
              "    <tr>\n",
              "      <th>1</th>\n",
              "      <td>TSE unifica horário de votação em todos os est...</td>\n",
              "      <td>Votação no Acre será das 6h às 15h no horário ...</td>\n",
              "      <td>https://g1.globo.com/politica/eleicoes/2022/no...</td>\n",
              "    </tr>\n",
              "    <tr>\n",
              "      <th>2</th>\n",
              "      <td>Dados de vacinação no ConecteSus permanecem in...</td>\n",
              "      <td>Ministro Marcelo Queiroga disse que expectativ...</td>\n",
              "      <td>https://g1.globo.com/saude/noticia/2021/12/15/...</td>\n",
              "    </tr>\n",
              "    <tr>\n",
              "      <th>3</th>\n",
              "      <td>Ainda sob efeito do ataque hacker, Brasil regi...</td>\n",
              "      <td></td>\n",
              "      <td>https://g1.globo.com/saude/coronavirus/noticia...</td>\n",
              "    </tr>\n",
              "    <tr>\n",
              "      <th>4</th>\n",
              "      <td>Vocalista e o sócio da boate Kiss são presos a...</td>\n",
              "      <td>Ministro Barroso derrubou habeas corpus dos 4 ...</td>\n",
              "      <td>https://g1.globo.com/rs/rio-grande-do-sul/noti...</td>\n",
              "    </tr>\n",
              "    <tr>\n",
              "      <th>5</th>\n",
              "      <td>Senado aprova indicação de Anastasia para mini...</td>\n",
              "      <td>Nome ainda passará pela Câmara. Katia Abreu e ...</td>\n",
              "      <td>https://g1.globo.com/politica/noticia/2021/12/...</td>\n",
              "    </tr>\n",
              "    <tr>\n",
              "      <th>6</th>\n",
              "      <td>PEC dos Precatórios: Câmara aprova em 1º turno...</td>\n",
              "      <td></td>\n",
              "      <td>https://g1.globo.com/politica/noticia/2021/12/...</td>\n",
              "    </tr>\n",
              "    <tr>\n",
              "      <th>7</th>\n",
              "      <td>'Desesperador', diz brasileiro em região de to...</td>\n",
              "      <td>Só em Kentucky, mais de 100 pessoas ainda estã...</td>\n",
              "      <td>https://g1.globo.com/jornal-nacional/noticia/2...</td>\n",
              "    </tr>\n",
              "  </tbody>\n",
              "</table>\n",
              "</div>"
            ],
            "text/plain": [
              "                                              titulo  ...                                               link\n",
              "0  Reprovação ao governo Bolsonaro chega a 55%, a...  ...  https://g1.globo.com/politica/noticia/2021/12/...\n",
              "1  TSE unifica horário de votação em todos os est...  ...  https://g1.globo.com/politica/eleicoes/2022/no...\n",
              "2  Dados de vacinação no ConecteSus permanecem in...  ...  https://g1.globo.com/saude/noticia/2021/12/15/...\n",
              "3  Ainda sob efeito do ataque hacker, Brasil regi...  ...  https://g1.globo.com/saude/coronavirus/noticia...\n",
              "4  Vocalista e o sócio da boate Kiss são presos a...  ...  https://g1.globo.com/rs/rio-grande-do-sul/noti...\n",
              "5  Senado aprova indicação de Anastasia para mini...  ...  https://g1.globo.com/politica/noticia/2021/12/...\n",
              "6  PEC dos Precatórios: Câmara aprova em 1º turno...  ...  https://g1.globo.com/politica/noticia/2021/12/...\n",
              "7  'Desesperador', diz brasileiro em região de to...  ...  https://g1.globo.com/jornal-nacional/noticia/2...\n",
              "\n",
              "[8 rows x 3 columns]"
            ]
          },
          "metadata": {},
          "execution_count": 7
        }
      ]
    },
    {
      "cell_type": "code",
      "source": [
        "# Criando um arquivo para viabilizar o download dos dados.\n",
        "df_noticias.to_excel('noticias.xlsx', index=False)"
      ],
      "metadata": {
        "id": "_GBI0wLXEb_Y"
      },
      "execution_count": null,
      "outputs": []
    }
  ]
}